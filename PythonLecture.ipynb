{
 "cells": [
  {
   "cell_type": "markdown",
   "metadata": {
    "id": "yrz-5a6Xqp7j"
   },
   "source": [
    "╔══<i><b>&nbsp;PAI-Programming&nbsp;</b></i>══════════════════════════════════╗\n",
    "###  &nbsp;&nbsp; **✎&nbsp;&nbsp;Week 1_Python**\n",
    "\n",
    "## Objective\n",
    "1. Programming 구조와 사고방식을 학습힌다.\n",
    "2. Python 문법을 습득한다. \n",
    "\n",
    "╚═════════════════════════════════════════════════╝\n"
   ]
  },
  {
   "cell_type": "markdown",
   "metadata": {
    "id": "fqwEJDzKrNTK"
   },
   "source": [
    "# [1. 프로그래밍을 바라보는 관점]\n",
    "\n",
    "*   자료 구조(Data Structure) \n",
    " - 데이터를 어떻게 구조화 할 것인가?\n",
    " - example) list, tuple, set, frozenset ,dict , string, etc\n",
    " - 어떻게 읽고, 어떻게 쓰는 것에 대해서 정의하고 싶은 것\n",
    " \n",
    " \n",
    "*   논리 구조(Logical Structure)\n",
    " - 문제를 해결하기 위해 어떻게 논리를 구축할 것인가? \n",
    "  (for , while , and ,or ...) \n",
    "\n",
    "=> 궁국적으로 어떤 문제를 해결 할 것인가? \n"
   ]
  },
  {
   "cell_type": "markdown",
   "metadata": {
    "id": "7U4nXOxLxYV6"
   },
   "source": [
    "## 1. 자료 구조(Data Structure) \n",
    "`자료구조`란 대량의 데이터를 **효율적으로 관리할 수 있도록 하는 데이터의 구조**를 의미합니다.  \n",
    "데이터의 속성에 따라 **체계적인 자료 구조 설계**는 필수적이며 이러한 설계는 **코드의 효율성과 성능을 결정**합니다."
   ]
  },
  {
   "cell_type": "markdown",
   "metadata": {
    "id": "dO_AU4hHz7mW"
   },
   "source": [
    "### 1) 자료구조의 필요성 "
   ]
  },
  {
   "cell_type": "markdown",
   "metadata": {
    "id": "Cfjhfafvvfat"
   },
   "source": [
    "Q1) 아래 Data 안에는 **어떤 종류의 Element**들이 있을까요?"
   ]
  },
  {
   "cell_type": "code",
   "execution_count": 3,
   "metadata": {
    "id": "D5HoK4KWr0yl"
   },
   "outputs": [],
   "source": [
    "a = [1, 2, 3, 4, 1, 2, 3, 4, 5, 6, 1, 2, 3, 4, 5, 6]"
   ]
  },
  {
   "cell_type": "markdown",
   "metadata": {
    "id": "pghBgCSjvGZ6"
   },
   "source": [
    "어떤 종류의 Element 들이 있는지 확인하기 위해 `set` 이라는 `자료구조` 를 사용했습니다."
   ]
  },
  {
   "cell_type": "code",
   "execution_count": 4,
   "metadata": {
    "id": "Wz_wCVpPuG_Y"
   },
   "outputs": [
    {
     "data": {
      "text/plain": [
       "{1, 2, 3, 4, 5, 6}"
      ]
     },
     "execution_count": 4,
     "metadata": {},
     "output_type": "execute_result"
    }
   ],
   "source": [
    "set(a)"
   ]
  },
  {
   "cell_type": "markdown",
   "metadata": {
    "id": "DxqE981lv-RJ"
   },
   "source": [
    "`set`의 중복이 안된다는 `속성` attribute 을 사용했습니다.   \n",
    "❖ 각 자료구조의 속성을 잘 파악하는 것이 중요합니다. "
   ]
  },
  {
   "cell_type": "markdown",
   "metadata": {
    "id": "YkS_lyKfvrAB"
   },
   "source": [
    "Q2) 이번에는 **각 Element 이 몇 개씩 있는지** 확인하고 싶습니다. 어떤 자료구조을 써야 할까요?"
   ]
  },
  {
   "cell_type": "code",
   "execution_count": 5,
   "metadata": {
    "id": "cEyLWj4Kv6js"
   },
   "outputs": [
    {
     "name": "stdout",
     "output_type": "stream",
     "text": [
      "{1: 3, 2: 3, 3: 3, 4: 3, 5: 2, 6: 2}\n",
      "Counter({1: 3, 2: 3, 3: 3, 4: 3, 5: 2, 6: 2})\n",
      "[1 2 3 4 5 6] [3 3 3 3 2 2]\n"
     ]
    }
   ],
   "source": [
    "#1 제어문을 사용하는 방법\n",
    "bucket = {}\n",
    "for ele in a:\n",
    "    if ele not in bucket.keys():\n",
    "        bucket[ele] = a.count(ele)\n",
    "print(bucket)\n",
    "    \n",
    "#2 메소드를 사용하는 방법(1)\n",
    "from collections import Counter\n",
    "counts = Counter(a)\n",
    "print(counts)\n",
    "\n",
    "#3 메소드를 사용하는 방법(2)\n",
    "import numpy as np \n",
    "value, counts = np.unique(a, return_counts=True)\n",
    "print(value, counts)"
   ]
  },
  {
   "cell_type": "markdown",
   "metadata": {
    "id": "3-zvXEmczxIm"
   },
   "source": [
    "### 2) 자료구조의 종류\n",
    "파이썬은 다음과 같은 대표적인 자료구조를 갖습니다. \n",
    " - list \n",
    " - tuple \n",
    " - set\n",
    " - dict\n",
    " - string  \n",
    " - frozenset(option)"
   ]
  },
  {
   "cell_type": "markdown",
   "metadata": {
    "id": "Zhmpu2Iv0RLj"
   },
   "source": [
    "#### (1) Literal 생성\n"
   ]
  },
  {
   "cell_type": "code",
   "execution_count": 3,
   "metadata": {
    "id": "Zhmpu2Iv0RLj"
   },
   "outputs": [
    {
     "name": "stdout",
     "output_type": "stream",
     "text": [
      "[1, 1, 2, 2, 3, 3]\n",
      "(1, 1, 2, 2, 3, 3)\n",
      "{1, 2, 3}\n",
      "{1: 2, 2: 2, 3: 2}\n",
      "1,1,2,2,3,3\n",
      "frozenset({1, 2, 3})\n"
     ]
    }
   ],
   "source": [
    "sample_1 = [1,1,2,2,3,3] #list \n",
    "sample_2 = (1,1,2,2,3,3) # tuple\n",
    "sample_3 = {1,1,2,2,3,3} # set\n",
    "sample_4 = {1:2,2:2,3:2} # dict \n",
    "sample_5 = \"1,1,2,2,3,3\" # str\n",
    "sample_6 = frozenset((1,1,2,2,3,3)) # frozenset\n",
    "print(sample_1)\n",
    "print(sample_2)\n",
    "print(sample_3)\n",
    "print(sample_4)\n",
    "print(sample_5)\n",
    "print(sample_6)"
   ]
  },
  {
   "cell_type": "markdown",
   "metadata": {
    "id": "9yUW2tVF3msb"
   },
   "source": [
    "#### (2) 생성자(constructor) 생성\n"
   ]
  },
  {
   "cell_type": "code",
   "execution_count": 9,
   "metadata": {
    "id": "9yUW2tVF3msb"
   },
   "outputs": [
    {
     "name": "stdout",
     "output_type": "stream",
     "text": [
      "[1, 1, 2, 2, 3, 3]\n",
      "(1, 1, 2, 2, 3, 3)\n",
      "{1, 2, 3}\n",
      "{1: 2, 2: 2, 3: 2}\n",
      "[1, 1, 2, 2, 3, 3]\n",
      "frozenset({1, 2, 3})\n"
     ]
    },
    {
     "data": {
      "text/plain": [
       "'[1, 1, 2, 2, 3, 3]'"
      ]
     },
     "execution_count": 9,
     "metadata": {},
     "output_type": "execute_result"
    }
   ],
   "source": [
    "a = [1,1,2,2,3,3]\n",
    "sample_1 = list(a) # list\n",
    "sample_2 = tuple(a) # tuple\n",
    "sample_3 = set(a) # set\n",
    "sample_4 = dict({1:2, 2:2, 3:2}) # dict\n",
    "sample_5 = str(a) # str\n",
    "sample_6 = frozenset((1,1,2,2,3,3)) # frozenset\n",
    "\n",
    "print(sample_1)\n",
    "print(sample_2)\n",
    "print(sample_3)\n",
    "print(sample_4)\n",
    "print(sample_5)\n",
    "print(sample_6)"
   ]
  },
  {
   "cell_type": "markdown",
   "metadata": {
    "id": "YAhqmLhByoRR"
   },
   "source": [
    "### 3) 자료구조의 속성"
   ]
  },
  {
   "cell_type": "markdown",
   "metadata": {},
   "source": [
    "#### (1) 속성 종류"
   ]
  },
  {
   "cell_type": "markdown",
   "metadata": {
    "id": "6nj6S6spyvLr"
   },
   "source": [
    "- [sequence(order)](https://docs.python.org/3/library/stdtypes.html#typesseq)\n",
    "> A sequence is a group of items with a deterministic ordering. \n",
    "\n",
    "- [mutable , immutable ](https://www.geeksforgeeks.org/mutable-vs-immutable-objects-in-python/)\n",
    "> Whenever an object is instantiated, it is assigned a unique object id. The type of the object is defined at the runtime and it can’t be changed afterwards. However, it’s state can be changed if it is a mutable object.\n",
    "To summarise the difference, mutable objects can change their state or contents and immutable objects can’t change their state or content.  \n",
    "`Immutable Objects` : These are of in-built types like int, float, bool, string, unicode, tuple. In simple words, an immutable object can’t be changed after it is created  \n",
    "`Mutable Objects` : These are of type list, dict, set . Custom classes are generally mutables  \n",
    "❖`state` : The contents of the memory locations, at any given point in the program’s execution, is called the program’s state.\n",
    "\n",
    "\n",
    "- [hashable](https://docs.python.org/2/glossary.html)\n",
    " > An object is hashable if it has a hash value which never changes during its lifetime (it needs a __hash__() method), and can be compared to other objects\n",
    "\n",
    "- [mapping](https://docs.python.org/2.0/lib/typesmapping.html)\n",
    "> A mapping object maps values of one type (the key type) to arbitrary objects. Mappings are mutable objects. There is currently only one standard mapping type, the dictionary. \n",
    "\n",
    "- [collections](https://python.flowdas.com/library/collections.html)\n",
    "> Python collection, unlike a sequence, does not have a deterministic ordering.\n",
    "\n",
    "- [iterable](https://www.pythonlikeyoumeanit.com/Module2_EssentialsOfPython/Iterables.html)\n",
    "> An iterable is any Python object capable of returning its members one at a time, permitting it to be iterated over in a for-loop.\n",
    "\n",
    "\n"
   ]
  },
  {
   "cell_type": "markdown",
   "metadata": {},
   "source": [
    "#### 자료구조 종류에 따른 속성 매칭"
   ]
  },
  {
   "cell_type": "markdown",
   "metadata": {
    "id": "MPgx_Q7Y8ihj"
   },
   "source": [
    "|             | order/unorder | iterable | mutable/ immutable | hashable | index |\n",
    "|-------------|---------------|----------|--------------------|----------|-------|\n",
    "|        list | order         | O        | mutable            | X        | O     |\n",
    "| tuple       | order         | O        | immutable          | O        | O     |\n",
    "| set         | unorder       | O        | mutable            | X        | X     |\n",
    "| frozenset   | unorder       | O        | immutable          | O        | X     |\n",
    "| dict        | unorder       | O        | mutable            | X        | O     |\n",
    "| string      | order         | O        | immutable          | O        | O     |\n",
    "| numberic    | unorder       | X        | immutable          | O        | X     |\n",
    "| bool        | unorder       | X        | immutable          | O        | X     |"
   ]
  },
  {
   "cell_type": "markdown",
   "metadata": {},
   "source": [
    "index기준(numbering or key), dict index만 언급"
   ]
  },
  {
   "cell_type": "markdown",
   "metadata": {},
   "source": [
    "#### (2) 속성 특징 "
   ]
  },
  {
   "cell_type": "markdown",
   "metadata": {
    "id": "EnRrEB7TBgxG"
   },
   "source": [
    "**order (sequence) / unorder**\n",
    "- `정의`\n",
    "    - 순서를 가지는 데이터 타입\n",
    "- `사용가능함수` [(참고 링크)](https://docs.python.org/3/library/collections.abc.html)\n",
    "    - \\_\\_getitem__(), \\_\\_len__()\n",
    "    - collections.abc.Sequence : count(), index(), \\_\\_contains__(), \\_\\_reversed__()\n",
    "- `해당 속성을 갖는 자료형`  \n",
    "    - list, tuple, str\n",
    "- `특징`\n",
    "   1. 시퀀스는 같은 시퀀스 형태의 다른 객체들과 비교 가능(사전식 순서 기반)\n",
    "   2. 정수 인덱스를 사용하면서, special method \\_\\_getitem__()을 통해서, 혹은 sequence의 길이를 return 해주는 \\_\\_len__() 메소드를 통해 객체 내 element에 빠르고 효과적인 액세스를 지원"
   ]
  },
  {
   "cell_type": "code",
   "execution_count": 1,
   "metadata": {
    "id": "TnJukEyD_eHE",
    "scrolled": true
   },
   "outputs": [
    {
     "name": "stdout",
     "output_type": "stream",
     "text": [
      "False\n"
     ]
    }
   ],
   "source": [
    "# order\n",
    "a = [1,2,3]\n",
    "b = [3,2,1]\n",
    "print(a == b)"
   ]
  },
  {
   "cell_type": "code",
   "execution_count": 2,
   "metadata": {},
   "outputs": [
    {
     "name": "stdout",
     "output_type": "stream",
     "text": [
      "True\n"
     ]
    }
   ],
   "source": [
    "# unorder \n",
    "a = set(a)\n",
    "b = set(b)\n",
    "print(a == b)"
   ]
  },
  {
   "cell_type": "markdown",
   "metadata": {
    "id": "zAnlwyY7CC2_"
   },
   "source": [
    "**iterable / uniterable** \n",
    "\n",
    "- `정의`\n",
    "    - 자신의 구성요소를 하나씩 return할 수 있는 객체\n",
    "- `사용가능함수` [(참고 링크)](https://docs.python.org/3/library/collections.abc.html)\n",
    "    - \\_\\_next__\n",
    "    - \\_\\_iter__\n",
    "- `해당 속성을 갖는 자료형`  \n",
    "    - sequence types(list, str, tuple , ...)\n",
    "    - non-sequence types(dict, set, ...)\n",
    "    - 사용자가 \\_\\_iter__() 메소드나 \\_\\_getitem__() 메소드로 정의한 class\n",
    "- `특징`\n",
    "   1. for 반복문에서 사용가능(zip(), map()에서도 가능)\n",
    "   2. iterable 객체가 내장함수인 iter()를 호출하면, 객체를 위한 iterator가 return\n",
    "   3. iterator는 값들의 집합을 한번 거치는 동안 유효\n",
    "   4. iterables를 사용시에는 대개 iter()를 호출하거나 iterator object를 다룰 필요 없음, 왜냐하면 for 반복문이 일시적인 unnamed 변수를 만들어 loop를 도는 동안 iterator 역할을 하게끔 만들기 때문\n",
    "   5. indexing이 안된다고해서 iterable이 불가능한 것은 아니다. e.g.) set\n"
   ]
  },
  {
   "cell_type": "code",
   "execution_count": 17,
   "metadata": {
    "scrolled": false
   },
   "outputs": [
    {
     "name": "stdout",
     "output_type": "stream",
     "text": [
      "<class 'list_iterator'>\n"
     ]
    }
   ],
   "source": [
    "a = [4,5,6]\n",
    "a_iter = iter(a)\n",
    "print(type(a_iter))"
   ]
  },
  {
   "cell_type": "code",
   "execution_count": 13,
   "metadata": {},
   "outputs": [
    {
     "data": {
      "text/plain": [
       "4"
      ]
     },
     "execution_count": 13,
     "metadata": {},
     "output_type": "execute_result"
    }
   ],
   "source": [
    "next(a_iter)"
   ]
  },
  {
   "cell_type": "code",
   "execution_count": 14,
   "metadata": {},
   "outputs": [
    {
     "data": {
      "text/plain": [
       "5"
      ]
     },
     "execution_count": 14,
     "metadata": {},
     "output_type": "execute_result"
    }
   ],
   "source": [
    "next(a_iter)"
   ]
  },
  {
   "cell_type": "code",
   "execution_count": 15,
   "metadata": {},
   "outputs": [
    {
     "data": {
      "text/plain": [
       "6"
      ]
     },
     "execution_count": 15,
     "metadata": {},
     "output_type": "execute_result"
    }
   ],
   "source": [
    "next(a_iter)"
   ]
  },
  {
   "cell_type": "code",
   "execution_count": 16,
   "metadata": {},
   "outputs": [
    {
     "ename": "StopIteration",
     "evalue": "",
     "output_type": "error",
     "traceback": [
      "\u001b[0;31m---------------------------------------------------------------------------\u001b[0m",
      "\u001b[0;31mStopIteration\u001b[0m                             Traceback (most recent call last)",
      "\u001b[0;32m<ipython-input-16-715546d38f40>\u001b[0m in \u001b[0;36m<module>\u001b[0;34m\u001b[0m\n\u001b[0;32m----> 1\u001b[0;31m \u001b[0mnext\u001b[0m\u001b[0;34m(\u001b[0m\u001b[0ma_iter\u001b[0m\u001b[0;34m)\u001b[0m\u001b[0;34m\u001b[0m\u001b[0;34m\u001b[0m\u001b[0m\n\u001b[0m",
      "\u001b[0;31mStopIteration\u001b[0m: "
     ]
    }
   ],
   "source": [
    "next(a_iter)"
   ]
  },
  {
   "cell_type": "code",
   "execution_count": 3,
   "metadata": {
    "id": "E8xu_XRaBndO"
   },
   "outputs": [
    {
     "name": "stdout",
     "output_type": "stream",
     "text": [
      "1\n",
      "2\n",
      "3\n"
     ]
    }
   ],
   "source": [
    "# iterable \n",
    "a = [1,2,3]\n",
    "for ele in a:\n",
    "    print(ele)"
   ]
  },
  {
   "cell_type": "code",
   "execution_count": 4,
   "metadata": {},
   "outputs": [
    {
     "name": "stdout",
     "output_type": "stream",
     "text": [
      "'bool' object is not iterable\n"
     ]
    }
   ],
   "source": [
    "# uniterable \n",
    "try:\n",
    "    for ele in True:\n",
    "        print(ele)\n",
    "except TypeError as ne : \n",
    "    print(ne)"
   ]
  },
  {
   "cell_type": "markdown",
   "metadata": {
    "id": "dBI1Yp-fCHhr"
   },
   "source": [
    "**mutable / immutable** \n",
    "\n",
    "- `정의`\n",
    "    - id 변경 없이 값이 변경될 수 있는 객체\n",
    "- `해당 속성을 갖는 자료형`  \n",
    "    - list, set, dict\n",
    "- `특징`\n",
    "   1. immutable한 객체들은 변경될 수 없고, 새 값을 저장하려면 새 객체를 생성해야 함\n",
    "   2. immutable한 객체들은 변하지 않는 해시값이 있어야 하는 곳에서 중요한 역할을 함\n",
    "       (ex. dictionary key, set component)\n",
    "   3. mutable한 것들은 값이 변경 될수 있기 때문에 객체의 값이 변경됨\n",
    "\n",
    "\n",
    " - ###copy할 때, mutable, immutable의 copy방식이 바뀐다   \n",
    " [참고링크1](https://blueshw.github.io/2016/01/20/shallow-copy-deep-copy/)\n",
    " [참고링크2](https://wikidocs.net/16038)\n",
    "\n",
    "\n",
    "-----    \n"
   ]
  },
  {
   "cell_type": "markdown",
   "metadata": {},
   "source": [
    "**- list is mutable** \n",
    "\n",
    "<img src=\"https://user-images.githubusercontent.com/71860179/96821094-372d5380-1462-11eb-8603-168de35aaa7e.jpeg\" alt=\"list_mutable\" style=\"zoom:30%;\" align=\"left\"/>\n",
    "\n"
   ]
  },
  {
   "cell_type": "code",
   "execution_count": 8,
   "metadata": {
    "id": "HPLWI9BLCWkg"
   },
   "outputs": [
    {
     "name": "stdout",
     "output_type": "stream",
     "text": [
      " x = [1, 2]\n",
      " y = [1, 2]\n",
      "append 전 x의 주소: 4559373504\n",
      "append 전 y의 주소: 4559373504\n"
     ]
    }
   ],
   "source": [
    "x = [1,2] \n",
    "y = x\n",
    "print(\" x =\",x)\n",
    "print(\" y =\",y)\n",
    "\n",
    "print(\"append 전 x의 주소: {}\".format(id(x)))\n",
    "print(\"append 전 y의 주소: {}\".format(id(y)))"
   ]
  },
  {
   "cell_type": "code",
   "execution_count": 9,
   "metadata": {
    "scrolled": true
   },
   "outputs": [
    {
     "name": "stdout",
     "output_type": "stream",
     "text": [
      " x = [1, 2, 3]\n",
      " y = [1, 2, 3]\n",
      "append 후 x의 주소: 4559373504\n",
      "append 후 y의 주소: 4559373504\n"
     ]
    }
   ],
   "source": [
    "y.append(3)\n",
    "print(\" x =\",x)\n",
    "print(\" y =\",y)\n",
    "\n",
    "print(\"append 후 x의 주소: {}\".format(id(x)))\n",
    "print(\"append 후 y의 주소: {}\".format(id(y)))"
   ]
  },
  {
   "cell_type": "markdown",
   "metadata": {},
   "source": [
    "**- tuple is immutable**  \n",
    "<img src=\"https://user-images.githubusercontent.com/71860179/96821860-be2efb80-1463-11eb-9f10-95c920af48b6.jpeg\" alt=\"list_mutable\" style=\"zoom:30%;\" align=\"left\"/>"
   ]
  },
  {
   "cell_type": "code",
   "execution_count": 6,
   "metadata": {
    "id": "HPLWI9BLCWkg",
    "scrolled": true
   },
   "outputs": [
    {
     "name": "stdout",
     "output_type": "stream",
     "text": [
      " x = (1, 2)\n",
      " y = (1, 2)\n",
      "append 전 x의 주소: 4558568384\n",
      "append 전 y의 주소: 4558568384\n"
     ]
    }
   ],
   "source": [
    "x = (1,2)\n",
    "y = x\n",
    "print(\" x =\",x)\n",
    "print(\" y =\",y)\n",
    "\n",
    "print(\"append 전 x의 주소: {}\".format(id(x)))\n",
    "print(\"append 전 y의 주소: {}\".format(id(y)))"
   ]
  },
  {
   "cell_type": "code",
   "execution_count": 7,
   "metadata": {
    "scrolled": true
   },
   "outputs": [
    {
     "name": "stdout",
     "output_type": "stream",
     "text": [
      " x = (1, 2)\n",
      " y = (1, 2, 3)\n",
      "append 후 x의 주소: 4558568384\n",
      "append 후 y의 주소: 4559657216\n"
     ]
    }
   ],
   "source": [
    "y += (3,)\n",
    "print(\" x =\",x)\n",
    "print(\" y =\",y)\n",
    "\n",
    "print(\"append 후 x의 주소: {}\".format(id(x)))\n",
    "print(\"append 후 y의 주소: {}\".format(id(y)))"
   ]
  },
  {
   "cell_type": "markdown",
   "metadata": {
    "id": "JInlSllmD6My"
   },
   "source": [
    "**hashable / unhashable**\n",
    "\n",
    "- `정의`\n",
    "    - 생성 이후 절대 변하지 않는 hash value를 갖고, 다른 객체와 비교할 수 있는 객체\n",
    "- `해당 속성을 갖는 자료형`  \n",
    "    - tuple, frozenset, str, numberic, bool\n",
    "- `특징`\n",
    "   1. hash 함수 통해 정수 반환, hash table에 저장함\n",
    "       - hashtable : cpu가 특정 값을 저장하고 그 값을 빠르게 가져올 수 있는 공간\n",
    "   2. 모든 built-in immutable data type object는 hashable함\n",
    "       - BUT, hashable 하다고 immutable 하지는 않음\n",
    "   3. 사용자 정의 class의 instance 객체들은 기본적으로 hashable, 자기 자신을 제외하고는 비교시 모두 다르다는 결과를 도출함\n",
    "   \n",
    "<center><img src=\"https://user-images.githubusercontent.com/35826728/96822482-26321180-1465-11eb-86be-225da4f2636d.png\" width=\"300\" height=\"300\"></center>\n"
   ]
  },
  {
   "cell_type": "code",
   "execution_count": 19,
   "metadata": {},
   "outputs": [
    {
     "name": "stdout",
     "output_type": "stream",
     "text": [
      "1\n",
      "1\n",
      "1\n",
      "{1}\n"
     ]
    }
   ],
   "source": [
    "print(hash(1))\n",
    "print(hash(1.0))\n",
    "print(hash(True))\n",
    "\n",
    "a = [1,1.0,True] # set에서 중복 비교를 hash를 통해서 한다는 것의 예제\n",
    "print(set(a))"
   ]
  },
  {
   "cell_type": "code",
   "execution_count": 16,
   "metadata": {
    "id": "az5DcAE1EENI"
   },
   "outputs": [
    {
     "name": "stdout",
     "output_type": "stream",
     "text": [
      "unhashable type: 'list'\n",
      "unhashable type: 'list'\n"
     ]
    }
   ],
   "source": [
    "# list is mutable \n",
    "a = [1,2,3] \n",
    "try:\n",
    "    hash(a)\n",
    "except TypeError as te:\n",
    "    print(te)\n",
    "    \n",
    "# tuple is immutable \n",
    "b = (1,2,3) \n",
    "hash(b) \n",
    "\n",
    "\n",
    "# example \n",
    "# set은 내부에 hashable 한 자료구조를 담아야 한다.\n",
    "b = set([1,2,3,(1,2)])\n",
    "try:\n",
    "    set([1,2,3,[1,2]])\n",
    "except TypeError as te:\n",
    "    print(te)"
   ]
  },
  {
   "cell_type": "code",
   "execution_count": 17,
   "metadata": {
    "id": "VRl4zHBClTnQ"
   },
   "outputs": [
    {
     "data": {
      "text/plain": [
       "{(1, 2), 1, 2, 3}"
      ]
     },
     "execution_count": 17,
     "metadata": {},
     "output_type": "execute_result"
    }
   ],
   "source": [
    "set([1,2,3,(1,2)])"
   ]
  },
  {
   "cell_type": "markdown",
   "metadata": {
    "id": "DNnTPLtUm7Oh"
   },
   "source": [
    "**※ interning**  \n",
    "\n",
    "**이미 생성된 객체를 재사용** 하는 것으로 **Immutable한 객체(tuple)**에 대해 사용하며 다음과 같은 조건에서 사용될 수 있습니다.\n",
    "\n",
    "1. 문자열: 20자 미만의 공백을 포함하지 않는 문자열\n",
    "2. 정수: -5 부터 256 사이의 정수\n",
    "\n",
    "interning은 객체를 재사용 하기 때문에 **메모리를 절감**할 수 있다는 장점이 있습니다.  \n",
    "Python과 호환되는 C, C++, Java등 언어에 따라 조건이 변동됨,\n",
    "\n",
    "임의로 지정도 가능\n"
   ]
  },
  {
   "cell_type": "code",
   "execution_count": 10,
   "metadata": {
    "id": "DNnTPLtUm7Oh",
    "scrolled": true
   },
   "outputs": [
    {
     "name": "stdout",
     "output_type": "stream",
     "text": [
      "4524878672 4524878672 True\n"
     ]
    }
   ],
   "source": [
    "# interning이 사용될 수 있는 예\n",
    "i = 10\n",
    "j = 10\n",
    "print(id(i), id(j), i is j)"
   ]
  },
  {
   "cell_type": "markdown",
   "metadata": {},
   "source": [
    "변수 i와 j에 할당된 객체인 정수 10은 interning을 사용하기 위한 **2번 조건을 만족**합니다.  \n",
    "따라서 파이썬은 정수 10을 **intern 컬렉션**에 넣고 그 주소를 i와 j에 할당했습니다."
   ]
  },
  {
   "cell_type": "code",
   "execution_count": 42,
   "metadata": {},
   "outputs": [
    {
     "name": "stdout",
     "output_type": "stream",
     "text": [
      "2499290838384 2499290838320 False\n"
     ]
    }
   ],
   "source": [
    "# interning이 사용될 수 없는 예\n",
    "x = 257\n",
    "y = 257\n",
    "print(id(x), id(y), x is y)"
   ]
  },
  {
   "cell_type": "markdown",
   "metadata": {},
   "source": [
    "변수 x와 y에 할당된 객체인 정수 257은 interning을 사용하기 위한 **조건을 만족하지 못합니다.**  \n",
    "따라서 변수 x와 y는 각각 **다른 주소에 할당됨**을 확인할 수 있습니다."
   ]
  },
  {
   "cell_type": "code",
   "execution_count": 50,
   "metadata": {
    "id": "2cSMAVvUpiBr"
   },
   "outputs": [
    {
     "name": "stdout",
     "output_type": "stream",
     "text": [
      "2499267588744 2499268844640 False\n"
     ]
    }
   ],
   "source": [
    "# 자료구조에서의 interning\n",
    "a = (1, 2, 3) \n",
    "b = (1, 2, 3)\n",
    "print(id(a), id(b), a is b)"
   ]
  },
  {
   "cell_type": "markdown",
   "metadata": {},
   "source": [
    "변수 a와 b에 immutable한 tuple객체가 할당되었지만 **tuple은 문자열도 아니고 정수도 아닙니다.**  \n",
    "따라서 tuple은 **interning을 사용하기 위한 조건을 만족하지 못합니다.**"
   ]
  },
  {
   "cell_type": "markdown",
   "metadata": {
    "id": "hwMj_1GVEk4K"
   },
   "source": [
    "### 4) 자료구조의 형태\n",
    "  `OOP` 에서 자료구조는 Class 의 형태를 가지고 있습니다.  \n",
    "  Class 는 `변수(Variable)` + `함수(Function)` 을 가지고 있습니다. \n",
    "\n",
    "    `변수` : 프로그래밍에서 자료구조가 담길 메모리 공간  \n",
    "    `함수` : 하나의 특별한 목적의 작업을 수행하기 위해 독립적으로 설계된 코드의 집합으로 정의할 수 있습니다 \n",
    "    \n",
    "    \n",
    "`기본 자료 구조`\n",
    "- python 이 필요 할거라고 예상되어 미리 만들어놓은 자료 구조  \n",
    "\n",
    "    example) list, int, float, tuple, .. etc\n",
    "\n",
    "`사용자 정의 자료구조`\n",
    "- 사용자가 필요에 의해 만들어 놓은 자료구조 \n",
    " \n",
    "`instance`\n",
    "- 객체를 메모리에 할당하는 것\n",
    "\n",
    "`method`\n",
    "- class 안에서 인스턴스들에게 가능한 행동들을 정의하는 함수\n",
    "\n",
    "-----\n"
   ]
  },
  {
   "cell_type": "markdown",
   "metadata": {},
   "source": [
    "#### 1) 클래스\n",
    "![image](https://user-images.githubusercontent.com/35826728/96824340-8aef6b00-1469-11eb-9858-769870c64af0.png)\n",
    "- 클래스 : 속성과 메소드로 구성된 인스턴스를 생성하는 틀입니다.###\n",
    "- 인스턴스: 클래스로부터 생성된 객체로, 속성과 메소드를 갖게됩니다. ###\n",
    "- 인스턴스 속성 : 인스턴스가 갖는 고유의 속성값을 뜻합니다. ###\n",
    "- 생성자(Constructor) : 인스턴스를 생성할 때 동시에 실행되는 메소드로, 인스턴스들의 속성값을 초기화할 때 주로 사용합니다. ###\n",
    "- 메소드 : 인스턴스들에게 가능한 행동들을 정의하는 함수입니다. ###\n",
    "- Class안에 있는 함수를 method, 변수를 attribute라고 한다. ###"
   ]
  },
  {
   "cell_type": "code",
   "execution_count": 34,
   "metadata": {
    "id": "Et9oI0_PExpU"
   },
   "outputs": [
    {
     "name": "stdout",
     "output_type": "stream",
     "text": [
      "<class 'list'>\n"
     ]
    }
   ],
   "source": [
    "a = [1,2,3]\n",
    "# list 의 자료구조 \n",
    "print(type(a))\n",
    "\n",
    "# list 자료구조의 함수 \n",
    "a.append(4)"
   ]
  },
  {
   "cell_type": "markdown",
   "metadata": {},
   "source": [
    "| 구분 | variable | method |\n",
    "|:--------|:--------|:--------|\n",
    "| **instance** | instance variable | instance method |\n",
    "| **class** | class variable | class method |\n",
    "\n",
    "- variable : 메모리 공간에 담길 자료구조\n",
    "- method : 하나의 특별한 목적의 작업을 수행하기 위해 독립적으로 설계된 코드의 집합"
   ]
  },
  {
   "cell_type": "markdown",
   "metadata": {},
   "source": [
    "#### class variable,method instance variable,method 예시"
   ]
  },
  {
   "cell_type": "code",
   "execution_count": 12,
   "metadata": {},
   "outputs": [],
   "source": [
    "class Person():\n",
    "    default_msg = \"사람입니다.\"\n",
    "    def __init__(self, name, age):\n",
    "        self.my_name = name # name: instance variable\n",
    "        self.my_age = age # age: instance variable\n",
    "    \n",
    "    def set_age(self, age): # instance method\n",
    "        self.my_age = age \n",
    "    \n",
    "    def get_age(self): # instance method\n",
    "        print(\"{}은 {}살 입니다.\".format(self.my_name, self.my_age))\n",
    "    \n",
    "    @staticmethod\n",
    "    def check(): # class method\n",
    "        print(Person.default_msg)\n",
    "        \n",
    "    @classmethod\n",
    "    def check2(cls): # class method\n",
    "        print(cls.default_msg)"
   ]
  },
  {
   "cell_type": "code",
   "execution_count": 13,
   "metadata": {},
   "outputs": [],
   "source": [
    "park = Person # class 객체"
   ]
  },
  {
   "cell_type": "code",
   "execution_count": 14,
   "metadata": {},
   "outputs": [
    {
     "name": "stdout",
     "output_type": "stream",
     "text": [
      "사람입니다.\n"
     ]
    },
    {
     "ename": "TypeError",
     "evalue": "get_age() missing 1 required positional argument: 'self'",
     "output_type": "error",
     "traceback": [
      "\u001b[0;31m---------------------------------------------------------------------------\u001b[0m",
      "\u001b[0;31mTypeError\u001b[0m                                 Traceback (most recent call last)",
      "\u001b[0;32m<ipython-input-14-cc0f1d658cba>\u001b[0m in \u001b[0;36m<module>\u001b[0;34m\u001b[0m\n\u001b[1;32m      1\u001b[0m \u001b[0mpark\u001b[0m\u001b[0;34m.\u001b[0m\u001b[0mcheck\u001b[0m\u001b[0;34m(\u001b[0m\u001b[0;34m)\u001b[0m \u001b[0;31m# instance화 하지 않은 객체이기 때문에 class method는 사용 가능\u001b[0m\u001b[0;34m\u001b[0m\u001b[0;34m\u001b[0m\u001b[0m\n\u001b[0;32m----> 2\u001b[0;31m \u001b[0mpark\u001b[0m\u001b[0;34m.\u001b[0m\u001b[0mget_age\u001b[0m\u001b[0;34m(\u001b[0m\u001b[0;34m)\u001b[0m \u001b[0;31m# instance화 하지 않은 객체이기 때문에 instance method는 사용 불가능\u001b[0m\u001b[0;34m\u001b[0m\u001b[0;34m\u001b[0m\u001b[0m\n\u001b[0m",
      "\u001b[0;31mTypeError\u001b[0m: get_age() missing 1 required positional argument: 'self'"
     ]
    }
   ],
   "source": [
    "park.check() # instance화 하지 않은 객체이기 때문에 class method는 사용 가능\n",
    "park.get_age() # instance화 하지 않은 객체이기 때문에 instance method는 사용 불가능"
   ]
  },
  {
   "cell_type": "code",
   "execution_count": 15,
   "metadata": {},
   "outputs": [
    {
     "name": "stdout",
     "output_type": "stream",
     "text": [
      "사람입니다.\n",
      "park\n",
      "8\n"
     ]
    }
   ],
   "source": [
    "park = Person(name = \"park\", age = 8) # instance : class\n",
    "print(park.default_msg) # default_msg : class 변수\n",
    "print(park.my_name) # name : instance 변수\n",
    "print(park.my_age) # age : instance 변수"
   ]
  },
  {
   "cell_type": "code",
   "execution_count": 16,
   "metadata": {},
   "outputs": [],
   "source": [
    "park.set_age(age = 24)\n",
    "# instance 변수인 age를 필요로 하는 함수이기 때문에 instance 함수이다.\n",
    "# instance 생성해야 사용 가능"
   ]
  },
  {
   "cell_type": "code",
   "execution_count": 17,
   "metadata": {},
   "outputs": [
    {
     "name": "stdout",
     "output_type": "stream",
     "text": [
      "park은 24살 입니다.\n"
     ]
    }
   ],
   "source": [
    "park.get_age()"
   ]
  },
  {
   "cell_type": "code",
   "execution_count": 18,
   "metadata": {},
   "outputs": [
    {
     "name": "stdout",
     "output_type": "stream",
     "text": [
      "사람입니다.\n",
      "park\n",
      "24\n"
     ]
    }
   ],
   "source": [
    "print(park.default_msg) # class 변수\n",
    "print(park.my_name) # instance 변수\n",
    "print(park.my_age) # instance 변수"
   ]
  },
  {
   "cell_type": "code",
   "execution_count": 19,
   "metadata": {},
   "outputs": [
    {
     "name": "stdout",
     "output_type": "stream",
     "text": [
      "사람입니다.\n",
      "None\n"
     ]
    }
   ],
   "source": [
    "print(park.check())\n",
    "#print(park.check2())"
   ]
  },
  {
   "cell_type": "markdown",
   "metadata": {},
   "source": [
    "### static-class method\n",
    "- static method\n",
    "    - instance 만들지 않아도 class method 실행 가능\n",
    "- class method\n",
    "    - instance 만들지 않아도 class method 실행 가능\n",
    "    - static method 와 다르게 cls라는 인자가 추가됨 \n",
    "   "
   ]
  },
  {
   "cell_type": "markdown",
   "metadata": {},
   "source": [
    "-------"
   ]
  },
  {
   "cell_type": "markdown",
   "metadata": {
    "id": "wl8S6RPdvg0N"
   },
   "source": [
    "## 2. 함수 (나중에 정리하기)\n",
    " - 아래는 함수의 일반적인 case 이다 \n",
    " - 함수는 변수를 `locals()` 에서 먼저 찾고 없으면 `globals()`에 찾는다."
   ]
  },
  {
   "cell_type": "markdown",
   "metadata": {},
   "source": [
    "![image](https://user-images.githubusercontent.com/35826728/96824417-b8d4af80-1469-11eb-9893-0e42bda89713.png)\n",
    "- 함수 : 특정한 기능을 수행하기 위한 코드들의 집합체입니다. 입력받은 인자를 매개변수로 받아 실행한 뒤 결과 값을 반환할 수 있고, 여러 번 재사용이 가능합니다. ###\n",
    "\n",
    "- 함수 정의 : 함수를 만드는 과정으로 함수명, 입력값, 실행내용, 출력값들을 이 과정에서 정합니다. ###\n",
    "\n",
    "- 매개변수: 외부로부터 입력 받은 값을 저장해서 함수 내에서 사용할 수 있게 해주는 변수입니다. ###\n",
    "\n",
    "- 인자: 함수 외부에서 함수 내부로 전달하고자 하는 값입니다. ###\n",
    "\n",
    "- 반환: 함수의 실행 결과로 나온 결과 값을 함수가 호출된 위치로 반환하는 과정 return이라고도 합니다. ###\n",
    "\n",
    "- 호출: 함수 내로 인자를 전달하여 함수를 실행하기 위한 과정입니다. ###\n",
    "- 함수에서 변수를 찾는 방식은 'locals()'(함수내부)에서 먼저 찾고 없으면 'globals()'(함수외부)에서 찾아본다. ###\n",
    "\n"
   ]
  },
  {
   "cell_type": "markdown",
   "metadata": {},
   "source": [
    "- Call by Value, Call by Reference ###\n",
    "    - function에 사용되는 워딩들\n",
    "    - function에 전달되는 객체 유형에 따라 달라진다.\n",
    "    - Call by Value ⇒ immutable 객체가 넘어왔을 때\n",
    "    - Call by Reference ⇒ mutable 객체가 넘어왔을 때\n",
    "--------    \n",
    "- call by reference 속성\n",
    "    - mutable 객체가 넘어 왔을때\n",
    "    - 인자로 받은 변수의 주소값을 전달하는 방식을 의미\n",
    "    - 함수 내에서 해당 인자를 조작하면 원본 변수의 주소값으로 타고 들어가 해당값 바꿈\n",
    "        \n",
    "- call by value 속성\n",
    "    - immutable 객체가 넘어왔을 때\n",
    "    - 변수를 복사한 값을 전달하는 방식을 의미\n",
    "    - 함수 내에서 해당 인자를 바꾸어도 원본 변수는 바뀌지 않음"
   ]
  },
  {
   "cell_type": "code",
   "execution_count": 7,
   "metadata": {
    "id": "MQyl_U8Rum9B"
   },
   "outputs": [
    {
     "name": "stdout",
     "output_type": "stream",
     "text": [
      "{'a': 3, 'b': 2}\n",
      "5\n",
      "Help on function sum in module __main__:\n",
      "\n",
      "sum(a, b)\n",
      "    Description:\n",
      "        이 함수는 더하기 함수 입니다. \n",
      "    Args:\n",
      "        a, int ,더해질 첫번째 인자입니다.\n",
      "        b, int ,더해질 두번째 인자입니다.\n",
      "    Return:\n",
      "        c, int , a+b 가 됩니다.\n",
      "\n"
     ]
    }
   ],
   "source": [
    "def sum(a, b): \n",
    "    \"\"\"\n",
    "    Description:\n",
    "        이 함수는 더하기 함수 입니다. \n",
    "    Args:\n",
    "        a, int ,더해질 첫번째 인자입니다.\n",
    "        b, int ,더해질 두번째 인자입니다.\n",
    "    Return:\n",
    "        c, int , a+b 가 됩니다. \n",
    "    \"\"\"\n",
    "    print(locals())\n",
    "    return a + b\n",
    "\n",
    "# usage \n",
    "print(sum(3, 2))\n",
    "help(sum)"
   ]
  },
  {
   "cell_type": "code",
   "execution_count": 6,
   "metadata": {
    "scrolled": true
   },
   "outputs": [
    {
     "data": {
      "text/plain": [
       "{'__name__': '__main__',\n",
       " '__doc__': '\\nAn interactive shell.\\n\\nThis file is designed to be launched as a PYTHONSTARTUP script.\\n',\n",
       " '__package__': None,\n",
       " '__loader__': None,\n",
       " '__spec__': None,\n",
       " '__builtin__': <module 'builtins' (built-in)>,\n",
       " '__builtins__': <module 'builtins' (built-in)>,\n",
       " '_ih': ['',\n",
       "  'sample_1 = [1,1,2,2,3,3] #list \\nsample_2 = (1,1,2,2,3,3) # tuple\\nsample_3 = {1,1,2,2,3,3} # set\\nsample_4 = {1:2,2:2,3:2} # dict \\nsample_5 = \"1,1,2,2,3,3\"\\nsample_6 = frozenset((1,1,2,2,3,3)) # frozenset\\nprint(sample_1)\\nprint(sample_2)\\nprint(sample_3)\\nprint(sample_4)\\nprint(sample_5)\\nprint(sample_6)',\n",
       "  'sample_1 = [1,1,2,2,3,3] #list \\nsample_2 = (1,1,2,2,3,3) # tuple\\nsample_3 = {1,1,2,2,3,3} # set\\nsample_4 = {1:2,2:2,3:2} # dict \\nsample_5 = \"1,1,2,2,3,3\"\\nsample_6 = frozenset((1,1,2,2,3,3)) # frozenset\\nprint(sample_1)\\nprint(sample_2)\\nprint(sample_3)\\nprint(sample_4)\\nprint(sample_5)\\nprint(type(sample_5))\\nprint(sample_6)',\n",
       "  'sample_1 = [1,1,2,2,3,3] #list \\nsample_2 = (1,1,2,2,3,3) # tuple\\nsample_3 = {1,1,2,2,3,3} # set\\nsample_4 = {1:2,2:2,3:2} # dict \\nsample_5 = \"1,1,2,2,3,3\" # str\\nsample_6 = frozenset((1,1,2,2,3,3)) # frozenset\\nprint(sample_1)\\nprint(sample_2)\\nprint(sample_3)\\nprint(sample_4)\\nprint(sample_5)\\nprint(sample_6)',\n",
       "  'a = [1,1,2,2,3,3]\\nsample_1 = list(a)\\nsample_2 = tuple(a)\\nsample_3 = set(a)\\nsample_4 = dict({1:2, 2:2, 3:2})\\nsample_5 = str(a)\\nsample_6 = frozenset((1,1,2,2,3,3)) # frozenset\\n\\nprint(sample_1)\\nprint(sample_2)\\nprint(sample_3)\\nprint(sample_4)\\nprint(sample_5)\\nprint(sample_6)',\n",
       "  'def sum(a, b): \\n    \"\"\"\\n    Description:\\n        이 함수는 더하기 함수 입니다. \\n    Args:\\n        a, int ,더해질 첫번째 인자입니다.\\n        b, int ,더해질 두번째 인자입니다.\\n    Return:\\n        c, int , a+b 가 됩니다. \\n    \"\"\"\\n    return a + b\\n\\n# usage \\nprint(sum(3, 2))\\nhelp(sum)',\n",
       "  'globals()'],\n",
       " '_oh': {},\n",
       " '_dh': ['/Users/admin/Desktop/publicai/사내교육'],\n",
       " 'In': ['',\n",
       "  'sample_1 = [1,1,2,2,3,3] #list \\nsample_2 = (1,1,2,2,3,3) # tuple\\nsample_3 = {1,1,2,2,3,3} # set\\nsample_4 = {1:2,2:2,3:2} # dict \\nsample_5 = \"1,1,2,2,3,3\"\\nsample_6 = frozenset((1,1,2,2,3,3)) # frozenset\\nprint(sample_1)\\nprint(sample_2)\\nprint(sample_3)\\nprint(sample_4)\\nprint(sample_5)\\nprint(sample_6)',\n",
       "  'sample_1 = [1,1,2,2,3,3] #list \\nsample_2 = (1,1,2,2,3,3) # tuple\\nsample_3 = {1,1,2,2,3,3} # set\\nsample_4 = {1:2,2:2,3:2} # dict \\nsample_5 = \"1,1,2,2,3,3\"\\nsample_6 = frozenset((1,1,2,2,3,3)) # frozenset\\nprint(sample_1)\\nprint(sample_2)\\nprint(sample_3)\\nprint(sample_4)\\nprint(sample_5)\\nprint(type(sample_5))\\nprint(sample_6)',\n",
       "  'sample_1 = [1,1,2,2,3,3] #list \\nsample_2 = (1,1,2,2,3,3) # tuple\\nsample_3 = {1,1,2,2,3,3} # set\\nsample_4 = {1:2,2:2,3:2} # dict \\nsample_5 = \"1,1,2,2,3,3\" # str\\nsample_6 = frozenset((1,1,2,2,3,3)) # frozenset\\nprint(sample_1)\\nprint(sample_2)\\nprint(sample_3)\\nprint(sample_4)\\nprint(sample_5)\\nprint(sample_6)',\n",
       "  'a = [1,1,2,2,3,3]\\nsample_1 = list(a)\\nsample_2 = tuple(a)\\nsample_3 = set(a)\\nsample_4 = dict({1:2, 2:2, 3:2})\\nsample_5 = str(a)\\nsample_6 = frozenset((1,1,2,2,3,3)) # frozenset\\n\\nprint(sample_1)\\nprint(sample_2)\\nprint(sample_3)\\nprint(sample_4)\\nprint(sample_5)\\nprint(sample_6)',\n",
       "  'def sum(a, b): \\n    \"\"\"\\n    Description:\\n        이 함수는 더하기 함수 입니다. \\n    Args:\\n        a, int ,더해질 첫번째 인자입니다.\\n        b, int ,더해질 두번째 인자입니다.\\n    Return:\\n        c, int , a+b 가 됩니다. \\n    \"\"\"\\n    return a + b\\n\\n# usage \\nprint(sum(3, 2))\\nhelp(sum)',\n",
       "  'globals()'],\n",
       " 'Out': {},\n",
       " 'get_ipython': <bound method InteractiveShell.get_ipython of <ipykernel.zmqshell.ZMQInteractiveShell object at 0x11209d550>>,\n",
       " 'exit': <IPython.core.autocall.ZMQExitAutocall at 0x1120fe5e0>,\n",
       " 'quit': <IPython.core.autocall.ZMQExitAutocall at 0x1120fe5e0>,\n",
       " '_': '',\n",
       " '__': '',\n",
       " '___': '',\n",
       " 'atexit': <module 'atexit' (built-in)>,\n",
       " 'os': <module 'os' from '/usr/local/Cellar/python@3.8/3.8.6/Frameworks/Python.framework/Versions/3.8/lib/python3.8/os.py'>,\n",
       " 'platform': <module 'platform' from '/usr/local/Cellar/python@3.8/3.8.6/Frameworks/Python.framework/Versions/3.8/lib/python3.8/platform.py'>,\n",
       " 'warnings': <module 'warnings' from '/usr/local/Cellar/python@3.8/3.8.6/Frameworks/Python.framework/Versions/3.8/lib/python3.8/warnings.py'>,\n",
       " 'py4j': <module 'py4j' from '/usr/local/Cellar/apache-spark/3.0.1/libexec/python/lib/py4j-0.10.9-src.zip/py4j/__init__.py'>,\n",
       " 'SparkConf': pyspark.conf.SparkConf,\n",
       " 'SparkContext': pyspark.context.SparkContext,\n",
       " 'SparkSession': pyspark.sql.session.SparkSession,\n",
       " 'SQLContext': pyspark.sql.context.SQLContext,\n",
       " 'spark': <pyspark.sql.session.SparkSession at 0x1225f3a00>,\n",
       " 'sc': <SparkContext master=local[*] appName=PySparkShell>,\n",
       " 'sql': <bound method SparkSession.sql of <pyspark.sql.session.SparkSession object at 0x1225f3a00>>,\n",
       " 'sqlContext': <pyspark.sql.context.SQLContext at 0x1224d7f40>,\n",
       " 'sqlCtx': <pyspark.sql.context.SQLContext at 0x1224d7f40>,\n",
       " '_pythonstartup': '',\n",
       " '_i': 'def sum(a, b): \\n    \"\"\"\\n    Description:\\n        이 함수는 더하기 함수 입니다. \\n    Args:\\n        a, int ,더해질 첫번째 인자입니다.\\n        b, int ,더해질 두번째 인자입니다.\\n    Return:\\n        c, int , a+b 가 됩니다. \\n    \"\"\"\\n    return a + b\\n\\n# usage \\nprint(sum(3, 2))\\nhelp(sum)',\n",
       " '_ii': 'a = [1,1,2,2,3,3]\\nsample_1 = list(a)\\nsample_2 = tuple(a)\\nsample_3 = set(a)\\nsample_4 = dict({1:2, 2:2, 3:2})\\nsample_5 = str(a)\\nsample_6 = frozenset((1,1,2,2,3,3)) # frozenset\\n\\nprint(sample_1)\\nprint(sample_2)\\nprint(sample_3)\\nprint(sample_4)\\nprint(sample_5)\\nprint(sample_6)',\n",
       " '_iii': 'sample_1 = [1,1,2,2,3,3] #list \\nsample_2 = (1,1,2,2,3,3) # tuple\\nsample_3 = {1,1,2,2,3,3} # set\\nsample_4 = {1:2,2:2,3:2} # dict \\nsample_5 = \"1,1,2,2,3,3\" # str\\nsample_6 = frozenset((1,1,2,2,3,3)) # frozenset\\nprint(sample_1)\\nprint(sample_2)\\nprint(sample_3)\\nprint(sample_4)\\nprint(sample_5)\\nprint(sample_6)',\n",
       " '_i1': 'sample_1 = [1,1,2,2,3,3] #list \\nsample_2 = (1,1,2,2,3,3) # tuple\\nsample_3 = {1,1,2,2,3,3} # set\\nsample_4 = {1:2,2:2,3:2} # dict \\nsample_5 = \"1,1,2,2,3,3\"\\nsample_6 = frozenset((1,1,2,2,3,3)) # frozenset\\nprint(sample_1)\\nprint(sample_2)\\nprint(sample_3)\\nprint(sample_4)\\nprint(sample_5)\\nprint(sample_6)',\n",
       " 'sample_1': [1, 1, 2, 2, 3, 3],\n",
       " 'sample_2': (1, 1, 2, 2, 3, 3),\n",
       " 'sample_3': {1, 2, 3},\n",
       " 'sample_4': {1: 2, 2: 2, 3: 2},\n",
       " 'sample_5': '[1, 1, 2, 2, 3, 3]',\n",
       " 'sample_6': frozenset({1, 2, 3}),\n",
       " '_i2': 'sample_1 = [1,1,2,2,3,3] #list \\nsample_2 = (1,1,2,2,3,3) # tuple\\nsample_3 = {1,1,2,2,3,3} # set\\nsample_4 = {1:2,2:2,3:2} # dict \\nsample_5 = \"1,1,2,2,3,3\"\\nsample_6 = frozenset((1,1,2,2,3,3)) # frozenset\\nprint(sample_1)\\nprint(sample_2)\\nprint(sample_3)\\nprint(sample_4)\\nprint(sample_5)\\nprint(type(sample_5))\\nprint(sample_6)',\n",
       " '_i3': 'sample_1 = [1,1,2,2,3,3] #list \\nsample_2 = (1,1,2,2,3,3) # tuple\\nsample_3 = {1,1,2,2,3,3} # set\\nsample_4 = {1:2,2:2,3:2} # dict \\nsample_5 = \"1,1,2,2,3,3\" # str\\nsample_6 = frozenset((1,1,2,2,3,3)) # frozenset\\nprint(sample_1)\\nprint(sample_2)\\nprint(sample_3)\\nprint(sample_4)\\nprint(sample_5)\\nprint(sample_6)',\n",
       " '_i4': 'a = [1,1,2,2,3,3]\\nsample_1 = list(a)\\nsample_2 = tuple(a)\\nsample_3 = set(a)\\nsample_4 = dict({1:2, 2:2, 3:2})\\nsample_5 = str(a)\\nsample_6 = frozenset((1,1,2,2,3,3)) # frozenset\\n\\nprint(sample_1)\\nprint(sample_2)\\nprint(sample_3)\\nprint(sample_4)\\nprint(sample_5)\\nprint(sample_6)',\n",
       " 'a': [1, 1, 2, 2, 3, 3],\n",
       " '_i5': 'def sum(a, b): \\n    \"\"\"\\n    Description:\\n        이 함수는 더하기 함수 입니다. \\n    Args:\\n        a, int ,더해질 첫번째 인자입니다.\\n        b, int ,더해질 두번째 인자입니다.\\n    Return:\\n        c, int , a+b 가 됩니다. \\n    \"\"\"\\n    return a + b\\n\\n# usage \\nprint(sum(3, 2))\\nhelp(sum)',\n",
       " 'sum': <function __main__.sum(a, b)>,\n",
       " '_i6': 'globals()'}"
      ]
     },
     "execution_count": 6,
     "metadata": {},
     "output_type": "execute_result"
    }
   ],
   "source": [
    "globals()"
   ]
  },
  {
   "cell_type": "markdown",
   "metadata": {
    "id": "QKrJMynOxVnj"
   },
   "source": [
    "### 1. 논리 구조 (Logical Structure)\n",
    " - 문제를 해결 하기 위한 프로그래밍의 논리 구조(알고리즘)를 만드는 것\n",
    "  - `for`, `while`, `if`"
   ]
  },
  {
   "cell_type": "code",
   "execution_count": 29,
   "metadata": {
    "id": "v3PAmTEDxv8e"
   },
   "outputs": [
    {
     "data": {
      "text/plain": [
       "'\\n*      \\n**\\n***\\n****\\n*****\\n'"
      ]
     },
     "execution_count": 29,
     "metadata": {},
     "output_type": "execute_result"
    }
   ],
   "source": [
    "#1 \n",
    "\"\"\"\n",
    "*      \n",
    "**\n",
    "***\n",
    "****\n",
    "*****\n",
    "\"\"\"\n",
    "\n",
    "#2 피보나치 수열을 구현해보세요. \n",
    "# 1, 1, 2, 3, 5, 8, 13   "
   ]
  }
 ],
 "metadata": {
  "colab": {
   "collapsed_sections": [
    "yrz-5a6Xqp7j",
    "fqwEJDzKrNTK"
   ],
   "name": "PythonLecture_for_PAI .ipynb",
   "private_outputs": true,
   "provenance": []
  },
  "kernelspec": {
   "display_name": "python3",
   "language": "python",
   "name": "python3"
  },
  "language_info": {
   "codemirror_mode": {
    "name": "ipython",
    "version": 3
   },
   "file_extension": ".py",
   "mimetype": "text/x-python",
   "name": "python",
   "nbconvert_exporter": "python",
   "pygments_lexer": "ipython3",
   "version": "3.6.8"
  },
  "toc": {
   "base_numbering": 1,
   "nav_menu": {},
   "number_sections": false,
   "sideBar": true,
   "skip_h1_title": false,
   "title_cell": "Table of Contents",
   "title_sidebar": "Contents",
   "toc_cell": false,
   "toc_position": {
    "height": "calc(100% - 180px)",
    "left": "10px",
    "top": "150px",
    "width": "285px"
   },
   "toc_section_display": true,
   "toc_window_display": true
  }
 },
 "nbformat": 4,
 "nbformat_minor": 1
}
