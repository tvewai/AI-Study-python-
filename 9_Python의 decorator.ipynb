{
  "nbformat": 4,
  "nbformat_minor": 0,
  "metadata": {
    "colab": {
      "name": "python_decorator.ipynb",
      "private_outputs": true,
      "provenance": [],
      "collapsed_sections": []
    },
    "kernelspec": {
      "name": "python3",
      "display_name": "Python 3"
    }
  },
  "cells": [
    {
      "cell_type": "markdown",
      "metadata": {
        "id": "qQzt3IaRor0x"
      },
      "source": [
        "# Python Decorator   \n",
        " \n",
        " Python 의 데코레이터 는 기존 함수를 변경하지 않고 함수에 새로운 기능을 추가 할 수 있는 기능입니다.  \n",
        " 일반적으로 함수의 전처리나 후처리에 대한 필요가 있을때 사용합니다. \n",
        "\n",
        "\n",
        "decorator 는 Python 의 Closer 기능과  \n",
        "Python 의 positional argument(args), keyword argument 기능을 사용해 decorator 을 구현합니다.   \n",
        "2가지 방법을 통해 구현할 수 있습니다. \n",
        " 1. function   \n",
        " 2. class  \n",
        "\n",
        "\n"
      ]
    },
    {
      "cell_type": "markdown",
      "metadata": {
        "id": "MUS2vaga71Bh"
      },
      "source": [
        "## 1.1) function 으로 decorator 을 구현하는 방법 입니다. \n",
        "\n",
        "```python\n",
        "# define decorator\n",
        "def out_func(func):\n",
        "    def in_func(*args, **kwargs):\n",
        "        # 전처리 코드 \n",
        "        ## closer \n",
        "        func(*args, **kwargs):\n",
        "        # 후처리 코드 \n",
        "        ## \n",
        "    return in_func\n",
        "```\n",
        "\n",
        "\n",
        "```python\n",
        "# wrapping func in decoratoring\n",
        "@out_func\n",
        "def input_func():\n",
        "    pass\n",
        "```\n",
        "\n",
        "```python \n",
        "# usage \n",
        "input_func()\n",
        "```\n",
        "\n"
      ]
    },
    {
      "cell_type": "markdown",
      "metadata": {
        "id": "tqJ7fx6v7iPC"
      },
      "source": [
        "### 1.1.1) timer\n",
        "아래 예시는 `decorator`을 활용해 함수 실행시 시간을 확인하는 decorator 을 생성하는 예제를 만들어 봅니다. "
      ]
    },
    {
      "cell_type": "code",
      "metadata": {
        "id": "j2djrQqms4eJ"
      },
      "source": [
        "import time "
      ],
      "execution_count": null,
      "outputs": []
    },
    {
      "cell_type": "code",
      "metadata": {
        "id": "voatD-DPqgg0"
      },
      "source": [
        "def timer(func):\n",
        "    def inner_function(*args, **kwargs):\n",
        "        print('chk counsume time')\n",
        "        start_time = time.time()    \n",
        "        func(*args, **kwargs)\n",
        "        print(time.time() - start_time)\n",
        "    return inner_function\n"
      ],
      "execution_count": null,
      "outputs": []
    },
    {
      "cell_type": "code",
      "metadata": {
        "id": "e1Sg4s5nsYPn"
      },
      "source": [
        "@timer\n",
        "def loader(max_iter):    \n",
        "    [i for i in range(max_iter)]\n"
      ],
      "execution_count": null,
      "outputs": []
    },
    {
      "cell_type": "markdown",
      "metadata": {
        "id": "qrjlZfaBOyHc"
      },
      "source": [
        "### 1.1.2) decorator 을 사용하지 않고 함수 본연 기능을 활용해 구현 할 수 있습니다."
      ]
    },
    {
      "cell_type": "code",
      "metadata": {
        "id": "8NOKVCflOtLL"
      },
      "source": [
        "def my_func(max_iter):    \n",
        "    [i for i in range(max_iter)]\n"
      ],
      "execution_count": null,
      "outputs": []
    },
    {
      "cell_type": "code",
      "metadata": {
        "id": "oE3_8MPoOPkq"
      },
      "source": [
        "wrap_func = timer(my_func)\n"
      ],
      "execution_count": null,
      "outputs": []
    },
    {
      "cell_type": "code",
      "metadata": {
        "id": "JvlEd7f5Ok7B"
      },
      "source": [
        "wrap_func(max_iter=10000)"
      ],
      "execution_count": null,
      "outputs": []
    },
    {
      "cell_type": "markdown",
      "metadata": {
        "id": "DMySajPtA3cD"
      },
      "source": [
        "## 1.2) class 으로 decorator 을 구현하는 방법 입니다. \n",
        "\n",
        "```python\n",
        "# define decorator\n",
        "class Outer():\n",
        "    def __init__(self, func):\n",
        "        self.func = func\n",
        "\n",
        "    def __call__(self, *args, **kwargs):\n",
        "        # 전처리 코드 \n",
        "        func(*args, **kwargs):\n",
        "        # 후처리 코드 \n",
        "```\n",
        "\n",
        "\n",
        "```python\n",
        "# wrapping func in decoratoring\n",
        "@Outer\n",
        "def input_func():\n",
        "    pass\n",
        "```\n",
        "\n",
        "```python \n",
        "# usage \n",
        "input_func()\n",
        "```\n",
        "\n"
      ]
    },
    {
      "cell_type": "markdown",
      "metadata": {
        "id": "XtmJ8YhSA3cE"
      },
      "source": [
        "### 1.1.2) 아래 예시는 `decorator`을 활용해 함수 실행시 시간을 확인하는 decorator 을 생성하는 예제를 만들어 봅니다. "
      ]
    },
    {
      "cell_type": "code",
      "metadata": {
        "id": "Q9EAli6aA3cE"
      },
      "source": [
        "import time "
      ],
      "execution_count": null,
      "outputs": []
    },
    {
      "cell_type": "code",
      "metadata": {
        "id": "wz3h7R6IA3cE"
      },
      "source": [
        "class Timer():\n",
        "    def __init__(self, func):\n",
        "        self.func = func \n",
        "\n",
        "    def __call__(self, *args, **kwargs):\n",
        "        print('chk counsume time')\n",
        "        start_time = time.time()    \n",
        "        self.func(*args, **kwargs)\n",
        "        print(time.time() - start_time)"
      ],
      "execution_count": null,
      "outputs": []
    },
    {
      "cell_type": "code",
      "metadata": {
        "id": "QCEw6ZQFA3cF"
      },
      "source": [
        "@Timer\n",
        "def make_load(max_iter):    \n",
        "    [i for i in range(max_iter)]"
      ],
      "execution_count": null,
      "outputs": []
    },
    {
      "cell_type": "code",
      "metadata": {
        "id": "Hc6SrcD-A3cF"
      },
      "source": [
        "make_load(1000000)"
      ],
      "execution_count": null,
      "outputs": []
    }
  ]
}